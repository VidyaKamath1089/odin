{
 "cells": [
  {
   "cell_type": "code",
   "execution_count": 3,
   "metadata": {
    "pycharm": {
     "is_executing": true,
     "name": "#%%\n"
    },
    "scrolled": false
   },
   "outputs": [
    {
     "name": "stdout",
     "output_type": "stream",
     "text": [
      "loading annotations into memory...\n",
      "Done (t=0.15s)\n",
      "creating index...\n",
      "index created!\n"
     ]
    },
    {
     "name": "stderr",
     "output_type": "stream",
     "text": [
      "2020-08-11 16:08:18,690 - INFO - Loaded 9271 proposals and failed with 0\n"
     ]
    },
    {
     "name": "stdout",
     "output_type": "stream",
     "text": [
      "New dataset with meta_annotations /Users/nahimetorres/Documents/Git/raceplane/data/instances_test_role_ANNOTATED.json\n"
     ]
    },
    {
     "data": {
      "application/javascript": [
       "\n",
       "                require.config({\n",
       "                    paths: {\n",
       "                        html2canvas: \"https://html2canvas.hertzen.com/dist/html2canvas.min\"\n",
       "                    }\n",
       "                });\n",
       "            "
      ],
      "text/plain": [
       "<IPython.core.display.Javascript object>"
      ]
     },
     "metadata": {},
     "output_type": "display_data"
    },
    {
     "data": {
      "application/vnd.jupyter.widget-view+json": {
       "model_id": "64087787f86040a3bd23390fa9760cc0",
       "version_major": 2,
       "version_minor": 0
      },
      "text/plain": [
       "VBox(children=(HBox(children=(BoundedIntText(value=1, layout=Layout(height='35px', width='80px'), max=6329, mi…"
      ]
     },
     "metadata": {},
     "output_type": "display_data"
    }
   ],
   "source": [
    "import os\n",
    "from emd_with_classes.classes import *\n",
    "\n",
    "\n",
    "is_segmentation = True\n",
    "\n",
    "dataset_gt_param = \"/Users/nahimetorres/Documents/Git/raceplane/data/instances_test_role.json\"\n",
    "\n",
    "images_path = \"/Users/nahimetorres/Documents/Git/raceplane/PS-RGB_tiled-test/\"\n",
    "path_to_detections = \"/Users/nahimetorres/Documents/Git/raceplane/data/test\"\n",
    "my_dataset = Dataset(dataset_gt_param, path_to_detections, is_segmentation, \n",
    "                          images_abs_path=images_path)\n",
    "\n",
    "\n",
    "properties = {\"difficult\": ([\"Yes\", \"No\"], MetaPropertiesTypes.META_PROP_UNIQUE), \n",
    "              \"Aicraft color\": ([\"White\", \"Yellow\", \"Other\"], MetaPropertiesTypes.META_PROP_UNIQUE)}\n",
    "    \n",
    "my_annotator = Annotator(my_dataset, properties)\n",
    "my_annotator.start_annotation()"
   ]
  },
  {
   "cell_type": "code",
   "execution_count": 4,
   "metadata": {
    "pycharm": {
     "is_executing": true,
     "name": "#%%\n"
    }
   },
   "outputs": [
    {
     "name": "stdout",
     "output_type": "stream",
     "text": [
      "Class name                   Annotated objects\n",
      "---------------------------  -------------------\n",
      "LargeCivilTransportUtility   1\n",
      "MediumCivilTransportUtility  1\n",
      "SmallCivilTransportUtility   1\n",
      "Total                        3/6329\n"
     ]
    }
   ],
   "source": [
    "my_annotator.print_statistics()"
   ]
  },
  {
   "cell_type": "code",
   "execution_count": null,
   "metadata": {
    "pycharm": {
     "is_executing": true
    }
   },
   "outputs": [],
   "source": []
  }
 ],
 "metadata": {
  "kernelspec": {
   "display_name": "Python 3",
   "language": "python",
   "name": "python3"
  },
  "language_info": {
   "codemirror_mode": {
    "name": "ipython",
    "version": 3
   },
   "file_extension": ".py",
   "mimetype": "text/x-python",
   "name": "python",
   "nbconvert_exporter": "python",
   "pygments_lexer": "ipython3",
   "version": "3.8.5"
  },
  "pycharm": {
   "stem_cell": {
    "cell_type": "raw",
    "metadata": {
     "collapsed": false
    },
    "source": []
   }
  }
 },
 "nbformat": 4,
 "nbformat_minor": 4
}
