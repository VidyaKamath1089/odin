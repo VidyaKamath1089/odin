{
 "cells": [
  {
   "cell_type": "code",
   "execution_count": 1,
   "metadata": {},
   "outputs": [
    {
     "name": "stdout",
     "output_type": "stream",
     "text": [
      "loading annotations into memory...\n",
      "Done (t=0.08s)\n",
      "creating index...\n",
      "index created!\n"
     ]
    },
    {
     "name": "stderr",
     "output_type": "stream",
     "text": [
      "2020-08-11 16:17:55,677 - INFO - Loaded 9271 proposals and failed with 0\n"
     ]
    }
   ],
   "source": [
    "import os\n",
    "import json\n",
    "from emd_with_classes.classes import Dataset\n",
    "from emd_with_classes.classes import *\n",
    "\n",
    "\n",
    "dataset_gt_param = \"/Users/nahimetorres/Documents/Git/raceplane/data/instances_test_role.json\"\n",
    "\n",
    "images_path = \"/Users/nahimetorres/Documents/Git/raceplane/PS-RGB_tiled-test/\"\n",
    "\n",
    "path_to_detections = \"/Users/nahimetorres/Documents/Git/raceplane/bbox/real\"\n",
    "is_segmentation = False\n",
    "\n",
    "path_to_detections = \"/Users/nahimetorres/Documents/Git/raceplane/data/test\"\n",
    "is_segmentation = True\n",
    "\n",
    "my_dataset = Dataset(dataset_gt_param, path_to_detections, is_segmentation, \n",
    "                          images_abs_path=images_path)"
   ]
  },
  {
   "cell_type": "code",
   "execution_count": 2,
   "metadata": {},
   "outputs": [],
   "source": [
    "visualizer = Visualizer(my_dataset)"
   ]
  },
  {
   "cell_type": "code",
   "execution_count": 4,
   "metadata": {},
   "outputs": [
    {
     "data": {
      "text/plain": [
       "['SmallCivilTransportUtility',\n",
       " 'MediumCivilTransportUtility',\n",
       " 'LargeCivilTransportUtility']"
      ]
     },
     "execution_count": 4,
     "metadata": {},
     "output_type": "execute_result"
    }
   ],
   "source": [
    "my_dataset.get_categories_names()"
   ]
  },
  {
   "cell_type": "code",
   "execution_count": 5,
   "metadata": {},
   "outputs": [
    {
     "data": {
      "text/plain": [
       "dict_keys(['weather', 'faa_wingspan_class', 'truncated', 'propulsion', 'wing_type', 'num_engines', 'wing_position'])"
      ]
     },
     "execution_count": 5,
     "metadata": {},
     "output_type": "execute_result"
    }
   ],
   "source": [
    "my_dataset.get_property_keys()"
   ]
  },
  {
   "cell_type": "code",
   "execution_count": 9,
   "metadata": {},
   "outputs": [],
   "source": [
    "p = 'propulsion'\n",
    "possible_values = my_dataset.get_values_for_property(p)"
   ]
  },
  {
   "cell_type": "code",
   "execution_count": 10,
   "metadata": {},
   "outputs": [
    {
     "name": "stdout",
     "output_type": "stream",
     "text": [
      "propeller\n"
     ]
    },
    {
     "data": {
      "application/javascript": [
       "\n",
       "                require.config({\n",
       "                    paths: {\n",
       "                        html2canvas: \"https://html2canvas.hertzen.com/dist/html2canvas.min\"\n",
       "                    }\n",
       "                });\n",
       "            "
      ],
      "text/plain": [
       "<IPython.core.display.Javascript object>"
      ]
     },
     "metadata": {},
     "output_type": "display_data"
    },
    {
     "data": {
      "application/vnd.jupyter.widget-view+json": {
       "model_id": "07a1fb0286af4d6e80799318d79cd740",
       "version_major": 2,
       "version_minor": 0
      },
      "text/plain": [
       "VBox(children=(HBox(children=(BoundedIntText(value=1, layout=Layout(height='35px', width='80px'), max=326, min…"
      ]
     },
     "metadata": {},
     "output_type": "display_data"
    }
   ],
   "source": [
    "pvalue = possible_values[1]\n",
    "print(pvalue)\n",
    "visualizer.visualize_annotations_for_class_for_property(\"MediumCivilTransportUtility\", p, pvalue)"
   ]
  }
 ],
 "metadata": {
  "kernelspec": {
   "display_name": "Python 3",
   "language": "python",
   "name": "python3"
  },
  "language_info": {
   "codemirror_mode": {
    "name": "ipython",
    "version": 3
   },
   "file_extension": ".py",
   "mimetype": "text/x-python",
   "name": "python",
   "nbconvert_exporter": "python",
   "pygments_lexer": "ipython3",
   "version": "3.8.5"
  }
 },
 "nbformat": 4,
 "nbformat_minor": 4
}
